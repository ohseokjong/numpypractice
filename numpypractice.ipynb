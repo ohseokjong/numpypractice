{
 "cells": [
  {
   "cell_type": "code",
   "execution_count": 2,
   "metadata": {},
   "outputs": [
    {
     "name": "stdout",
     "output_type": "stream",
     "text": [
      "2.2.0\n"
     ]
    }
   ],
   "source": [
    "import numpy as np\n",
    "print(np.__version__)"
   ]
  },
  {
   "cell_type": "code",
   "execution_count": 4,
   "metadata": {},
   "outputs": [
    {
     "data": {
      "text/plain": [
       "array([1, 2, 3, 4, 5])"
      ]
     },
     "execution_count": 4,
     "metadata": {},
     "output_type": "execute_result"
    }
   ],
   "source": [
    "np.array([1, 2, 3, 4, 5])"
   ]
  },
  {
   "cell_type": "code",
   "execution_count": null,
   "metadata": {},
   "outputs": [
    {
     "data": {
      "text/plain": [
       "array([[ True,  True,  True],\n",
       "       [ True,  True,  True],\n",
       "       [ True,  True,  True]])"
      ]
     },
     "execution_count": 11,
     "metadata": {},
     "output_type": "execute_result"
    }
   ],
   "source": [
    "# Q: creat 3*3 numpy array of all True's\n",
    "#np.array([[1,1,1],[1,1,1],[1,1,1]])\n",
    "np.full((3,3),True,dtype=bool)\n",
    "np.ones((3,3),dtype=bool)"
   ]
  },
  {
   "cell_type": "code",
   "execution_count": 12,
   "metadata": {},
   "outputs": [
    {
     "data": {
      "text/plain": [
       "array([1, 3, 5, 7, 9])"
      ]
     },
     "execution_count": 12,
     "metadata": {},
     "output_type": "execute_result"
    }
   ],
   "source": [
    "# Q: extract all odd numbers from arr\n",
    "arr = np.array([0, 1, 2, 3, 4, 5, 6, 7, 8, 9])\n",
    "arr[arr%2==1]"
   ]
  },
  {
   "cell_type": "code",
   "execution_count": null,
   "metadata": {},
   "outputs": [
    {
     "data": {
      "text/plain": [
       "array([ 0, -1,  2, -1,  4, -1,  6, -1,  8, -1])"
      ]
     },
     "execution_count": 14,
     "metadata": {},
     "output_type": "execute_result"
    }
   ],
   "source": [
    "#Q: replace all odd numbers in arr with -1 \n",
    "# arr = np.array([0, 1, 2, 3, 4, 5, 6, 7, 8, 9])\n",
    "# for i in arr:\n",
    "#     if i%2==1:\n",
    "#         arr[i] = -1\n",
    "# arr        \n",
    "arr = np.array([0, 1, 2, 3, 4, 5, 6, 7, 8, 9])\n",
    "arr[arr%2==1] = -1\n",
    "arr"
   ]
  },
  {
   "cell_type": "code",
   "execution_count": 20,
   "metadata": {},
   "outputs": [
    {
     "name": "stdout",
     "output_type": "stream",
     "text": [
      "[ 0 -1  2 -1  4 -1  6 -1  8 -1]\n",
      "[0 1 2 3 4 5 6 7 8 9]\n"
     ]
    }
   ],
   "source": [
    "#Q: replace all odd numbers in arr with -1 without changing arr\n",
    "arr = np.arange(10)\n",
    "out = np.where(arr%2==1,-1,arr)\n",
    "\n",
    "print(out)\n",
    "print(arr)"
   ]
  },
  {
   "cell_type": "code",
   "execution_count": null,
   "metadata": {},
   "outputs": [
    {
     "data": {
      "text/plain": [
       "array([[0, 1, 2, 3, 4],\n",
       "       [5, 6, 7, 8, 9]])"
      ]
     },
     "execution_count": 40,
     "metadata": {},
     "output_type": "execute_result"
    }
   ],
   "source": [
    "#Q: convert a 1D array to a 2D array with 2 rows\n",
    "arr = np.arange(10)\n",
    "arr =arr.reshape(2,5)\n",
    "arr\n"
   ]
  },
  {
   "cell_type": "code",
   "execution_count": 45,
   "metadata": {},
   "outputs": [
    {
     "data": {
      "text/plain": [
       "array([[0, 1, 2, 3, 4],\n",
       "       [5, 6, 7, 8, 9],\n",
       "       [1, 1, 1, 1, 1],\n",
       "       [1, 1, 1, 1, 1]])"
      ]
     },
     "execution_count": 45,
     "metadata": {},
     "output_type": "execute_result"
    }
   ],
   "source": [
    "a = np.arange(10).reshape(2,-1)\n",
    "b = np.repeat(1,10).reshape(2,-1)\n",
    "\n",
    "# stack a and b horizontally\n",
    "np.hstack([a,b])\n",
    "# stack a and b vertically\n",
    "np.vstack([a,b])"
   ]
  },
  {
   "cell_type": "code",
   "execution_count": 46,
   "metadata": {},
   "outputs": [
    {
     "name": "stdout",
     "output_type": "stream",
     "text": [
      "[12 15 18]\n",
      "[ 6 15 24]\n"
     ]
    }
   ],
   "source": [
    "import numpy as np\n",
    "\n",
    "arr = np.array([[1, 2, 3],\n",
    "                [4, 5, 6],\n",
    "                [7, 8, 9]])\n",
    "\n",
    "# Sum along axis 0 (column-wise)\n",
    "print(np.sum(arr, axis=0))  # Output: [12 15 18]\n",
    "\n",
    "# Sum along axis 1 (row-wise)\n",
    "print(np.sum(arr, axis=1))  # Output: [ 6 15 24]\n"
   ]
  },
  {
   "cell_type": "code",
   "execution_count": null,
   "metadata": {},
   "outputs": [
    {
     "data": {
      "text/plain": [
       "array([3, 3, 3, 6, 6, 6, 9, 9, 9, 3, 6, 9, 3, 6, 9, 3, 6, 9])"
      ]
     },
     "execution_count": 51,
     "metadata": {},
     "output_type": "execute_result"
    }
   ],
   "source": [
    "# 10 : Create the following pattern without hardcoding. Use only numpy functions and the below input array a.\n",
    "#np.r_ : connect arrays row-wise\n",
    "#np.repeat : repeat elements of an array\n",
    "#np.tile : construct an array by repeating A the number of times given by reps\n",
    "a = np.array([3,6,9])\n",
    "b = np.r_[np.repeat(a,3),np.tile(a,3)]\n",
    "\n",
    "b\n"
   ]
  },
  {
   "cell_type": "code",
   "execution_count": null,
   "metadata": {},
   "outputs": [
    {
     "data": {
      "text/plain": [
       "array([2, 4])"
      ]
     },
     "execution_count": 57,
     "metadata": {},
     "output_type": "execute_result"
    }
   ],
   "source": [
    "# a = np.array([1,2,3,2,3,4,3,4,5,6])\n",
    "# b = np.array([7,2,10,2,7,4,9,4,9,8])\n",
    "\n",
    "# for i in a :\n",
    "#     if a[i]==b[i]:\n",
    "#         c = a[i]\n",
    "#tlqkf~! \n",
    "\n",
    "# Q : Get the common items between a and b\n",
    "a = np.array([1,2,3,2,3,4,3,4,5,6])\n",
    "b = np.array([7,2,10,2,7,4,9,4,9,8])\n",
    "np.intersect1d(a,b)\n",
    "# 1d means 1 dimension"
   ]
  },
  {
   "cell_type": "code",
   "execution_count": null,
   "metadata": {},
   "outputs": [
    {
     "data": {
      "text/plain": [
       "array([1, 2, 3, 4])"
      ]
     },
     "execution_count": 62,
     "metadata": {},
     "output_type": "execute_result"
    }
   ],
   "source": [
    "#Q : From array a remove all items present in array b\n",
    "a = np.array([1,2,3,4,5])\n",
    "b = np.array([5,6,7,8,9])\n",
    "\n",
    "c = np.intersect1d(a,b)\n",
    "d = np.setdiff1d(a,b)\n",
    "d\n"
   ]
  },
  {
   "cell_type": "markdown",
   "metadata": {},
   "source": [
    "`problem 14`"
   ]
  },
  {
   "cell_type": "code",
   "execution_count": 1,
   "metadata": {},
   "outputs": [
    {
     "data": {
      "text/plain": [
       "array([ 6,  9, 10])"
      ]
     },
     "execution_count": 1,
     "metadata": {},
     "output_type": "execute_result"
    }
   ],
   "source": [
    "#Q : get all items between 5 and 10 from a\n",
    "import numpy as np\n",
    "a = np.array([2, 6, 1, 9, 10, 3, 27])\n",
    "index =np.where((a>=5) & (a<=10))\n",
    "a[index]"
   ]
  },
  {
   "cell_type": "markdown",
   "metadata": {},
   "source": []
  },
  {
   "cell_type": "code",
   "execution_count": 11,
   "metadata": {},
   "outputs": [
    {
     "data": {
      "text/plain": [
       "array(['6', '7', '9', '8', '9', '7', '5'], dtype='<U1')"
      ]
     },
     "execution_count": 11,
     "metadata": {},
     "output_type": "execute_result"
    }
   ],
   "source": [
    "#Q15 : Convert the function maxx that works on two scalars, to work on two arrays.\n",
    "import numpy as np\n",
    "# def pair_max(a,b):\n",
    "#     c = np.array([])\n",
    "#     for i in a:\n",
    "#         for j in b:\n",
    "#             if i>j:\n",
    "#                 c[i] = a[i]\n",
    "#             else:\n",
    "#                 c[j] = b[j]\n",
    "#     return c \n",
    "\n",
    "# a = np.array([5, 7, 9, 8, 6, 4, 5])\n",
    "# b = np.array([6, 3, 4, 8, 9, 7, 1])\n",
    "\n",
    "# pair_max(a,b)\n",
    "#ㅡㅡㅡㅡㅡㅡㅡㅡㅡㅡㅡㅡㅡㅡㅡㅡㅡㅡㅡㅡㅡㅡㅡㅡㅡㅡㅡㅡ\n",
    "# a = np.array([5, 7, 9, 8, 6, 4, 5])\n",
    "# b = np.array([6, 3, 4, 8, 9, 7, 1])\n",
    "# np.maximum(a,b)\n",
    "#---------------------------------------------------\n",
    "def maxx(x, y): \n",
    "    \"\"\"Get the maximum of two items\"\"\"\n",
    "    if x >= y:\n",
    "        return x\n",
    "    else:\n",
    "        return y   \n",
    "\n",
    "a= np.array([5, 7, 9, 8, 6, 4, 5])\n",
    "b= np.array([6, 3, 4, 8, 9, 7, 1])\n",
    "pair_max = np.vectorize(maxx, otypes = [str])     \n",
    "pair_max(a, b)\n",
    "\n",
    "            "
   ]
  },
  {
   "cell_type": "markdown",
   "metadata": {},
   "source": [
    "`problem 16: Swap columns 1 and 2 in the array`"
   ]
  },
  {
   "cell_type": "code",
   "execution_count": 18,
   "metadata": {},
   "outputs": [
    {
     "name": "stdout",
     "output_type": "stream",
     "text": [
      "[[0 1 2]\n",
      " [3 4 5]\n",
      " [6 7 8]]\n"
     ]
    },
    {
     "data": {
      "text/plain": [
       "array([[1, 0, 2],\n",
       "       [4, 3, 5],\n",
       "       [7, 6, 8]])"
      ]
     },
     "execution_count": 18,
     "metadata": {},
     "output_type": "execute_result"
    }
   ],
   "source": [
    "import numpy as np\n",
    "\n",
    "arr = np.arange(9).reshape(3,3)\n",
    "print(arr)\n",
    "arr = arr[:,[1,0,2]]\n",
    "arr\n",
    "\n",
    "\n"
   ]
  },
  {
   "cell_type": "markdown",
   "metadata": {},
   "source": [
    "`problem 17: Swap rows 1 and 2 in the array`"
   ]
  },
  {
   "cell_type": "code",
   "execution_count": 22,
   "metadata": {},
   "outputs": [
    {
     "name": "stdout",
     "output_type": "stream",
     "text": [
      "[[0 1 2]\n",
      " [3 4 5]\n",
      " [6 7 8]]\n",
      "[[3 4 5]\n",
      " [0 1 2]\n",
      " [6 7 8]]\n"
     ]
    }
   ],
   "source": [
    "import numpy as np\n",
    "\n",
    "arr = np.arange(9).reshape(3,3)\n",
    "print(arr)\n",
    "arr =arr[[1,0,2],:]\n",
    "#Print all columns of the first row, then print all columns of the zeroth row,\n",
    "# and finally print all columns of the second row\n",
    "print(arr)\n",
    "\n",
    "\n"
   ]
  },
  {
   "cell_type": "markdown",
   "metadata": {},
   "source": [
    "`problem 18-1`"
   ]
  },
  {
   "cell_type": "code",
   "execution_count": 34,
   "metadata": {},
   "outputs": [
    {
     "name": "stdout",
     "output_type": "stream",
     "text": [
      "Original array:\n",
      "[[0 1 2]\n",
      " [3 4 5]\n",
      " [6 7 8]]\n",
      "Reversed array:\n",
      "[[6 7 8]\n",
      " [3 4 5]\n",
      " [0 1 2]]\n"
     ]
    }
   ],
   "source": [
    "import numpy as np\n",
    "\n",
    "n = 3\n",
    "arr = np.arange(9).reshape(n, n)\n",
    "tmp = np.zeros((n, n))  # 임시 배열 생성\n",
    "print(\"Original array:\")\n",
    "print(arr)\n",
    "\n",
    "# 배열을 반전시키는 코드 (tmp 사용)\n",
    "for i in range(n):\n",
    "    tmp[i] = arr[i]           # arr의 i번째 행을 tmp에 복사\n",
    "\n",
    "for i in range(3):\n",
    "    arr[i] = tmp[n-i-1]       # arr의 i번째 행을 arr의 반대 위치로 변경\n",
    "\n",
    "print(\"Reversed array:\")\n",
    "print(arr)\n"
   ]
  },
  {
   "cell_type": "markdown",
   "metadata": {},
   "source": [
    "`problem18-2`"
   ]
  },
  {
   "cell_type": "code",
   "execution_count": null,
   "metadata": {},
   "outputs": [],
   "source": []
  }
 ],
 "metadata": {
  "kernelspec": {
   "display_name": "Python 3",
   "language": "python",
   "name": "python3"
  },
  "language_info": {
   "codemirror_mode": {
    "name": "ipython",
    "version": 3
   },
   "file_extension": ".py",
   "mimetype": "text/x-python",
   "name": "python",
   "nbconvert_exporter": "python",
   "pygments_lexer": "ipython3",
   "version": "3.12.1"
  }
 },
 "nbformat": 4,
 "nbformat_minor": 2
}
